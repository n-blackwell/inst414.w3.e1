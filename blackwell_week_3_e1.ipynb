{
 "cells": [
  {
   "cell_type": "code",
   "execution_count": 17,
   "id": "907cdbbb",
   "metadata": {},
   "outputs": [],
   "source": [
    "import requests\n",
    "import json"
   ]
  },
  {
   "cell_type": "code",
   "execution_count": 32,
   "id": "e99d823a",
   "metadata": {},
   "outputs": [
    {
     "name": "stdout",
     "output_type": "stream",
     "text": [
      "DCA Manager: PAUL MALANDRINO, JR.\n",
      "IAD Manager: MIKE STEWART\n",
      "IAD Manager: JOHN STEWART\n"
     ]
    }
   ],
   "source": [
    "url = \"https://api.aviationapi.com/v1/airports\"\n",
    "\n",
    "response = requests.get(url, params = \"apt=DCA,IAD,BWI\").json()\n",
    "print(f\"DCA Manager: {response['DCA'][0]['manager']}\")\n",
    "print(f\"IAD Manager: {response['IAD'][0]['manager']}\")\n",
    "print(f\"IAD Manager: {response['BWI'][0]['manager']}\")"
   ]
  },
  {
   "cell_type": "code",
   "execution_count": null,
   "id": "1f44ae5b",
   "metadata": {},
   "outputs": [],
   "source": []
  }
 ],
 "metadata": {
  "kernelspec": {
   "display_name": "Python 3 (ipykernel)",
   "language": "python",
   "name": "python3"
  },
  "language_info": {
   "codemirror_mode": {
    "name": "ipython",
    "version": 3
   },
   "file_extension": ".py",
   "mimetype": "text/x-python",
   "name": "python",
   "nbconvert_exporter": "python",
   "pygments_lexer": "ipython3",
   "version": "3.9.13"
  }
 },
 "nbformat": 4,
 "nbformat_minor": 5
}
